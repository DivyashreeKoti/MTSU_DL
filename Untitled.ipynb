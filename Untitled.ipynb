{
 "cells": [
  {
   "cell_type": "code",
   "execution_count": 1,
   "id": "54a9f30d-44dd-4c34-b460-77ba0eb96333",
   "metadata": {},
   "outputs": [],
   "source": [
    "import tensorflow as tf\n",
    "import numpy as np\n",
    "import matplotlib.pyplot as plt\n",
    "import seaborn as sns\n",
    "import pandas as pd\n",
    "import pathlib\n",
    "import glob\n",
    "import os\n",
    "\n",
    "from tensorflow.keras.layers import Dense , Flatten , Dropout , Conv2D , MaxPooling2D\n",
    "from tensorflow.keras.models import Model , Sequential\n",
    "from tensorflow.keras.layers.experimental.preprocessing import Rescaling\n",
    "from tensorflow.keras.callbacks import EarlyStopping"
   ]
  },
  {
   "cell_type": "code",
   "execution_count": 2,
   "id": "f17ef678-0822-4184-b948-b7ba35e60627",
   "metadata": {},
   "outputs": [],
   "source": [
    "#path to the csv file containing all labels for traffic signs since folder contains numbers instead of class names\n",
    "path = './Data/labels.csv'\n",
    "df = pd.read_csv(path)"
   ]
  },
  {
   "cell_type": "code",
   "execution_count": 4,
   "id": "1ec8265d-8cca-4372-b414-b7dc0b0d3730",
   "metadata": {},
   "outputs": [],
   "source": [
    "#path to the folder containing our dataset\n",
    "dataset = './Data/traffic_Data/TRAIN'"
   ]
  },
  {
   "cell_type": "code",
   "execution_count": 5,
   "id": "a070eea4-2513-4ce9-992b-9d93692d2ed4",
   "metadata": {},
   "outputs": [],
   "source": [
    "data = []\n",
    "entry = []\n",
    "for filename in os.listdir(dataset):\n",
    "    entry.append(df['Name'][int(filename)])\n",
    "    entry.append(int(filename))\n",
    "    data.append(entry[:2])\n",
    "    entry.clear()\n",
    "\n",
    "#making a dataframe so it's easier to display using seaborn\n",
    "display_data = pd.DataFrame(data,columns=['Name' , 'num_images'])"
   ]
  },
  {
   "cell_type": "code",
   "execution_count": 6,
   "id": "8d85abf5-755f-4631-a426-f13777a9a9d6",
   "metadata": {},
   "outputs": [
    {
     "name": "stdout",
     "output_type": "stream",
     "text": [
      "Found 4170 files belonging to 58 classes.\n",
      "Using 3336 files for training.\n"
     ]
    },
    {
     "name": "stderr",
     "output_type": "stream",
     "text": [
      "2022-11-17 08:40:19.899457: E tensorflow/stream_executor/cuda/cuda_driver.cc:271] failed call to cuInit: CUDA_ERROR_UNKNOWN: unknown error\n",
      "2022-11-17 08:40:19.899517: I tensorflow/stream_executor/cuda/cuda_diagnostics.cc:169] retrieving CUDA diagnostic information for host: hamilton02\n",
      "2022-11-17 08:40:19.899533: I tensorflow/stream_executor/cuda/cuda_diagnostics.cc:176] hostname: hamilton02\n",
      "2022-11-17 08:40:19.899789: I tensorflow/stream_executor/cuda/cuda_diagnostics.cc:200] libcuda reported version is: INVALID_ARGUMENT: expected %d.%d, %d.%d.%d, or %d.%d.%d.%d form for driver version; got \"1\"\n",
      "2022-11-17 08:40:19.899833: I tensorflow/stream_executor/cuda/cuda_diagnostics.cc:204] kernel reported version is: 515.65.1\n",
      "2022-11-17 08:40:19.900257: I tensorflow/core/platform/cpu_feature_guard.cc:151] This TensorFlow binary is optimized with oneAPI Deep Neural Network Library (oneDNN) to use the following CPU instructions in performance-critical operations:  SSE4.1 SSE4.2 AVX AVX2 AVX512F FMA\n",
      "To enable them in other operations, rebuild TensorFlow with the appropriate compiler flags.\n"
     ]
    }
   ],
   "source": [
    "train_ds = tf.keras.preprocessing.image_dataset_from_directory(dataset,validation_split=0.2,\n",
    "                                                    subset='training',\n",
    "                                                    image_size=(224,224),\n",
    "                                                    seed=123,\n",
    "                                                    batch_size=32)"
   ]
  },
  {
   "cell_type": "code",
   "execution_count": 7,
   "id": "d28f393c-0525-4c1b-b5c7-854f2935d687",
   "metadata": {},
   "outputs": [
    {
     "name": "stdout",
     "output_type": "stream",
     "text": [
      "Found 4170 files belonging to 58 classes.\n",
      "Using 834 files for validation.\n"
     ]
    }
   ],
   "source": [
    "val_ds = tf.keras.preprocessing.image_dataset_from_directory(dataset,validation_split=0.2,\n",
    "                                                    subset='validation',\n",
    "                                                    image_size=(224,224),\n",
    "                                                    seed=123,\n",
    "                                                    batch_size=32)"
   ]
  },
  {
   "cell_type": "code",
   "execution_count": 8,
   "id": "abc1d449-bfb7-4d1f-a46c-790583fef586",
   "metadata": {},
   "outputs": [],
   "source": [
    "class_numbers = train_ds.class_names\n",
    "class_names = []\n",
    "for i in class_numbers:\n",
    "    class_names.append(df['Name'][int(i)])\n",
    "\n",
    "#class_names"
   ]
  },
  {
   "cell_type": "code",
   "execution_count": 9,
   "id": "0d56acb5-7c93-43f0-8505-c4e692c4fe77",
   "metadata": {},
   "outputs": [],
   "source": [
    "data_augmentation = tf.keras.Sequential(\n",
    "  [\n",
    "    tf.keras.layers.experimental.preprocessing.RandomFlip(\"horizontal\",input_shape=(224,224,3)),\n",
    "    tf.keras.layers.experimental.preprocessing.RandomRotation(0.1),\n",
    "    tf.keras.layers.experimental.preprocessing.RandomZoom(0.2),\n",
    "   tf.keras.layers.experimental.preprocessing.RandomFlip(mode=\"horizontal_and_vertical\")\n",
    "  ]\n",
    ")"
   ]
  },
  {
   "cell_type": "code",
   "execution_count": 10,
   "id": "d422c4e7-15d7-43cc-a1fe-f005191dde63",
   "metadata": {},
   "outputs": [
    {
     "name": "stdout",
     "output_type": "stream",
     "text": [
      "Model: \"sequential_1\"\n",
      "_________________________________________________________________\n",
      " Layer (type)                Output Shape              Param #   \n",
      "=================================================================\n",
      " sequential (Sequential)     (None, 224, 224, 3)       0         \n",
      "                                                                 \n",
      " rescaling (Rescaling)       (None, 224, 224, 3)       0         \n",
      "                                                                 \n",
      " conv2d (Conv2D)             (None, 222, 222, 128)     3584      \n",
      "                                                                 \n",
      " max_pooling2d (MaxPooling2D  (None, 111, 111, 128)    0         \n",
      " )                                                               \n",
      "                                                                 \n",
      " conv2d_1 (Conv2D)           (None, 109, 109, 64)      73792     \n",
      "                                                                 \n",
      " max_pooling2d_1 (MaxPooling  (None, 54, 54, 64)       0         \n",
      " 2D)                                                             \n",
      "                                                                 \n",
      " conv2d_2 (Conv2D)           (None, 52, 52, 64)        36928     \n",
      "                                                                 \n",
      " max_pooling2d_2 (MaxPooling  (None, 26, 26, 64)       0         \n",
      " 2D)                                                             \n",
      "                                                                 \n",
      " conv2d_3 (Conv2D)           (None, 24, 24, 128)       73856     \n",
      "                                                                 \n",
      " max_pooling2d_3 (MaxPooling  (None, 12, 12, 128)      0         \n",
      " 2D)                                                             \n",
      "                                                                 \n",
      " conv2d_4 (Conv2D)           (None, 10, 10, 128)       147584    \n",
      "                                                                 \n",
      " max_pooling2d_4 (MaxPooling  (None, 5, 5, 128)        0         \n",
      " 2D)                                                             \n",
      "                                                                 \n",
      " conv2d_5 (Conv2D)           (None, 3, 3, 256)         295168    \n",
      "                                                                 \n",
      " max_pooling2d_5 (MaxPooling  (None, 1, 1, 256)        0         \n",
      " 2D)                                                             \n",
      "                                                                 \n",
      " flatten (Flatten)           (None, 256)               0         \n",
      "                                                                 \n",
      " dense (Dense)               (None, 64)                16448     \n",
      "                                                                 \n",
      " dropout (Dropout)           (None, 64)                0         \n",
      "                                                                 \n",
      " dense_1 (Dense)             (None, 128)               8320      \n",
      "                                                                 \n",
      " dense_2 (Dense)             (None, 58)                7482      \n",
      "                                                                 \n",
      "=================================================================\n",
      "Total params: 663,162\n",
      "Trainable params: 663,162\n",
      "Non-trainable params: 0\n",
      "_________________________________________________________________\n"
     ]
    }
   ],
   "source": [
    "model = Sequential()\n",
    "model.add(data_augmentation)\n",
    "model.add(Rescaling(1./255))\n",
    "model.add(Conv2D(128, (3, 3), activation='relu'))\n",
    "model.add(MaxPooling2D((2, 2)))\n",
    "model.add(Conv2D(64, (3, 3), activation='relu'))\n",
    "model.add(MaxPooling2D((2, 2)))\n",
    "model.add(Conv2D(64, (3, 3), activation='relu'))\n",
    "model.add(MaxPooling2D((2, 2)))\n",
    "model.add(Conv2D(128 ,(3, 3), activation='relu'))\n",
    "model.add(MaxPooling2D((2, 2)))\n",
    "model.add(Conv2D(128, (3, 3), activation='relu'))\n",
    "model.add(MaxPooling2D((2, 2)))\n",
    "model.add(Conv2D(256, (3, 3), activation='relu'))\n",
    "model.add(MaxPooling2D((2, 2)))\n",
    "model.add(Flatten())\n",
    "model.add(Dense(64 , activation = 'relu'))\n",
    "model.add(Dropout(0.2))\n",
    "model.add(Dense(128 , activation = 'relu'))\n",
    "model.add(Dense(len(df) , activation = 'softmax'))\n",
    "model.summary()\n"
   ]
  },
  {
   "cell_type": "code",
   "execution_count": 11,
   "id": "29216c41-8baf-44a5-b997-5aa61e0248d0",
   "metadata": {},
   "outputs": [],
   "source": [
    "model.compile(loss=tf.keras.losses.SparseCategoricalCrossentropy(),optimizer='adam' , metrics=['accuracy'])"
   ]
  },
  {
   "cell_type": "code",
   "execution_count": 12,
   "id": "f7a3acac-de47-42b3-93d8-8fc91b3693f9",
   "metadata": {},
   "outputs": [
    {
     "name": "stdout",
     "output_type": "stream",
     "text": [
      "Epoch 1/50\n",
      "105/105 [==============================] - 143s 1s/step - loss: 3.4529 - accuracy: 0.1325 - val_loss: 2.8992 - val_accuracy: 0.1799\n",
      "Epoch 2/50\n",
      "105/105 [==============================] - 142s 1s/step - loss: 2.5491 - accuracy: 0.2905 - val_loss: 2.0888 - val_accuracy: 0.3705\n",
      "Epoch 3/50\n",
      "105/105 [==============================] - 143s 1s/step - loss: 2.0294 - accuracy: 0.3663 - val_loss: 1.7033 - val_accuracy: 0.4496\n",
      "Epoch 4/50\n",
      "105/105 [==============================] - 143s 1s/step - loss: 1.7703 - accuracy: 0.4406 - val_loss: 1.5005 - val_accuracy: 0.5492\n",
      "Epoch 5/50\n",
      "105/105 [==============================] - 142s 1s/step - loss: 1.6349 - accuracy: 0.4856 - val_loss: 1.4376 - val_accuracy: 0.5540\n",
      "Epoch 6/50\n",
      "105/105 [==============================] - 142s 1s/step - loss: 1.5016 - accuracy: 0.5141 - val_loss: 1.3000 - val_accuracy: 0.6127\n",
      "Epoch 7/50\n",
      "105/105 [==============================] - 142s 1s/step - loss: 1.4410 - accuracy: 0.5234 - val_loss: 1.1814 - val_accuracy: 0.6379\n",
      "Epoch 8/50\n",
      "105/105 [==============================] - 142s 1s/step - loss: 1.3747 - accuracy: 0.5489 - val_loss: 1.1552 - val_accuracy: 0.6307\n",
      "Epoch 9/50\n",
      "105/105 [==============================] - 142s 1s/step - loss: 1.3051 - accuracy: 0.5635 - val_loss: 1.0781 - val_accuracy: 0.6487\n",
      "Epoch 10/50\n",
      "105/105 [==============================] - 142s 1s/step - loss: 1.2057 - accuracy: 0.5905 - val_loss: 1.0029 - val_accuracy: 0.6463\n",
      "Epoch 11/50\n",
      "105/105 [==============================] - 142s 1s/step - loss: 1.1496 - accuracy: 0.6160 - val_loss: 0.8404 - val_accuracy: 0.7290\n",
      "Epoch 12/50\n",
      "105/105 [==============================] - 143s 1s/step - loss: 1.0680 - accuracy: 0.6391 - val_loss: 0.8178 - val_accuracy: 0.7482\n",
      "Epoch 13/50\n",
      "105/105 [==============================] - 143s 1s/step - loss: 0.9881 - accuracy: 0.6568 - val_loss: 0.7557 - val_accuracy: 0.7410\n",
      "Epoch 14/50\n",
      "105/105 [==============================] - 142s 1s/step - loss: 0.9866 - accuracy: 0.6679 - val_loss: 0.8734 - val_accuracy: 0.7074\n",
      "Epoch 15/50\n",
      "105/105 [==============================] - 142s 1s/step - loss: 0.9102 - accuracy: 0.6939 - val_loss: 0.7049 - val_accuracy: 0.7626\n",
      "Epoch 16/50\n",
      "105/105 [==============================] - 142s 1s/step - loss: 0.8621 - accuracy: 0.6933 - val_loss: 0.7071 - val_accuracy: 0.7482\n",
      "Epoch 17/50\n",
      "105/105 [==============================] - 142s 1s/step - loss: 0.8341 - accuracy: 0.7083 - val_loss: 0.7218 - val_accuracy: 0.7482\n",
      "Epoch 18/50\n",
      "105/105 [==============================] - 143s 1s/step - loss: 0.8133 - accuracy: 0.7200 - val_loss: 0.6169 - val_accuracy: 0.7986\n",
      "Epoch 19/50\n",
      "105/105 [==============================] - 143s 1s/step - loss: 0.7763 - accuracy: 0.7299 - val_loss: 0.6793 - val_accuracy: 0.7746\n",
      "Epoch 20/50\n",
      "105/105 [==============================] - 142s 1s/step - loss: 0.7412 - accuracy: 0.7491 - val_loss: 0.5268 - val_accuracy: 0.8249\n",
      "Epoch 21/50\n",
      "105/105 [==============================] - 143s 1s/step - loss: 0.6652 - accuracy: 0.7707 - val_loss: 0.4637 - val_accuracy: 0.8501\n",
      "Epoch 22/50\n",
      "105/105 [==============================] - 143s 1s/step - loss: 0.7092 - accuracy: 0.7563 - val_loss: 0.5179 - val_accuracy: 0.8297\n",
      "Epoch 23/50\n",
      "105/105 [==============================] - 143s 1s/step - loss: 0.5863 - accuracy: 0.7968 - val_loss: 0.3400 - val_accuracy: 0.8981\n",
      "Epoch 24/50\n",
      "105/105 [==============================] - 143s 1s/step - loss: 0.5701 - accuracy: 0.8082 - val_loss: 0.4415 - val_accuracy: 0.8549\n",
      "Epoch 25/50\n",
      "105/105 [==============================] - 143s 1s/step - loss: 0.5313 - accuracy: 0.8216 - val_loss: 0.3458 - val_accuracy: 0.9065\n",
      "Epoch 26/50\n",
      "105/105 [==============================] - 143s 1s/step - loss: 0.4876 - accuracy: 0.8333 - val_loss: 0.3481 - val_accuracy: 0.8885\n",
      "Epoch 27/50\n",
      "105/105 [==============================] - 142s 1s/step - loss: 0.4544 - accuracy: 0.8420 - val_loss: 0.3239 - val_accuracy: 0.8885\n",
      "Epoch 28/50\n",
      "105/105 [==============================] - 143s 1s/step - loss: 0.4584 - accuracy: 0.8450 - val_loss: 0.2342 - val_accuracy: 0.9293\n",
      "Epoch 29/50\n",
      "105/105 [==============================] - 143s 1s/step - loss: 0.3940 - accuracy: 0.8666 - val_loss: 0.2538 - val_accuracy: 0.9185\n",
      "Epoch 30/50\n",
      "105/105 [==============================] - 143s 1s/step - loss: 0.4002 - accuracy: 0.8648 - val_loss: 0.2531 - val_accuracy: 0.9161\n",
      "Epoch 31/50\n",
      "105/105 [==============================] - 143s 1s/step - loss: 0.3515 - accuracy: 0.8801 - val_loss: 0.2283 - val_accuracy: 0.9173\n",
      "Epoch 32/50\n",
      "105/105 [==============================] - 143s 1s/step - loss: 0.3503 - accuracy: 0.8810 - val_loss: 0.2122 - val_accuracy: 0.9305\n",
      "Epoch 33/50\n",
      "105/105 [==============================] - 143s 1s/step - loss: 0.3132 - accuracy: 0.8897 - val_loss: 0.1706 - val_accuracy: 0.9496\n",
      "Epoch 34/50\n",
      "105/105 [==============================] - 143s 1s/step - loss: 0.3454 - accuracy: 0.8867 - val_loss: 0.2885 - val_accuracy: 0.9017\n",
      "Epoch 35/50\n",
      "105/105 [==============================] - 143s 1s/step - loss: 0.3729 - accuracy: 0.8702 - val_loss: 0.2137 - val_accuracy: 0.9365\n",
      "Epoch 36/50\n",
      "105/105 [==============================] - 143s 1s/step - loss: 0.2990 - accuracy: 0.9008 - val_loss: 0.2287 - val_accuracy: 0.9281\n",
      "Epoch 37/50\n",
      "105/105 [==============================] - 143s 1s/step - loss: 0.3241 - accuracy: 0.8948 - val_loss: 0.2176 - val_accuracy: 0.9305\n",
      "Epoch 38/50\n",
      "105/105 [==============================] - 143s 1s/step - loss: 0.2532 - accuracy: 0.9182 - val_loss: 0.1545 - val_accuracy: 0.9496\n",
      "Epoch 39/50\n",
      "105/105 [==============================] - 143s 1s/step - loss: 0.2638 - accuracy: 0.9047 - val_loss: 0.1393 - val_accuracy: 0.9556\n",
      "Epoch 40/50\n",
      "105/105 [==============================] - 143s 1s/step - loss: 0.2693 - accuracy: 0.9098 - val_loss: 0.1908 - val_accuracy: 0.9436\n",
      "Epoch 41/50\n",
      "105/105 [==============================] - 143s 1s/step - loss: 0.2551 - accuracy: 0.9116 - val_loss: 0.1731 - val_accuracy: 0.9460\n",
      "Epoch 42/50\n",
      "105/105 [==============================] - 143s 1s/step - loss: 0.2251 - accuracy: 0.9242 - val_loss: 0.1097 - val_accuracy: 0.9592\n",
      "Epoch 43/50\n",
      "105/105 [==============================] - 143s 1s/step - loss: 0.2329 - accuracy: 0.9230 - val_loss: 0.1283 - val_accuracy: 0.9652\n",
      "Epoch 44/50\n",
      "105/105 [==============================] - 151s 1s/step - loss: 0.2159 - accuracy: 0.9242 - val_loss: 0.1511 - val_accuracy: 0.9460\n",
      "Epoch 45/50\n",
      "105/105 [==============================] - 142s 1s/step - loss: 0.2253 - accuracy: 0.9263 - val_loss: 0.1529 - val_accuracy: 0.9532\n",
      "Epoch 46/50\n",
      "105/105 [==============================] - 143s 1s/step - loss: 0.2023 - accuracy: 0.9302 - val_loss: 0.1283 - val_accuracy: 0.9544\n",
      "Epoch 47/50\n",
      "105/105 [==============================] - 142s 1s/step - loss: 0.3291 - accuracy: 0.8933 - val_loss: 0.1339 - val_accuracy: 0.9628\n"
     ]
    }
   ],
   "source": [
    "# Set callback functions to early stop training \n",
    "mycallbacks = [EarlyStopping(monitor='val_loss', patience=5)]\n",
    "hist = model.fit(train_ds,validation_data=val_ds, epochs=50 , callbacks=mycallbacks )"
   ]
  },
  {
   "cell_type": "code",
   "execution_count": null,
   "id": "e512da25-e20f-4ffd-a505-8667de294cab",
   "metadata": {},
   "outputs": [],
   "source": []
  }
 ],
 "metadata": {
  "kernelspec": {
   "display_name": "Python 3 (ipykernel)",
   "language": "python",
   "name": "python3"
  },
  "language_info": {
   "codemirror_mode": {
    "name": "ipython",
    "version": 3
   },
   "file_extension": ".py",
   "mimetype": "text/x-python",
   "name": "python",
   "nbconvert_exporter": "python",
   "pygments_lexer": "ipython3",
   "version": "3.10.5"
  }
 },
 "nbformat": 4,
 "nbformat_minor": 5
}
